{
 "cells": [
  {
   "cell_type": "markdown",
   "metadata": {
    "pycharm": {
     "name": "#%% md\n"
    }
   },
   "source": [
    "# KDSP_Twitter_Data_Analysis\n",
    "In Project 5 \"Twitter Data Analysis\", data from Twitter need to be fetched from a specific event, e.g. #football.\n",
    "1. Derive the sentiment of each tweet using Python module\n",
    "2. Top 10 hashtags and users based on their number of tweets in the data set\n",
    "3. Get the followers of a given twitter user from your acquired data set\n",
    "4. Given a twitter user, obtain the tweets and profiles of all followers of the user and show it."
   ]
  },
  {
   "cell_type": "code",
   "execution_count": 117,
   "metadata": {
    "pycharm": {
     "name": "#%%\n"
    }
   },
   "outputs": [],
   "source": [
    "event = '#DUUUVAL'\n",
    "#maximum count of follower\n",
    "follower_count = 10\n",
    "#maximum count of tweets per user\n",
    "tweet_count = 10"
   ]
  },
  {
   "cell_type": "markdown",
   "metadata": {
    "pycharm": {
     "name": "#%% md\n"
    }
   },
   "source": [
    "-Access Twitter API"
   ]
  },
  {
   "cell_type": "code",
   "execution_count": 118,
   "metadata": {
    "pycharm": {
     "name": "#%%\n"
    }
   },
   "outputs": [],
   "source": [
    "import yaml\n",
    "import tweepy\n",
    "\n",
    "# load the credential data from yaml file\n",
    "def process_yaml(credentials):\n",
    "    with open(credentials) as c:\n",
    "        return yaml.safe_load(c)\n",
    "\n",
    "\n",
    "# extract consumer key and secret\n",
    "def create_keys(access_data):\n",
    "    return access_data[\"twitter_api\"][\"consumer_key\"], access_data[\"twitter_api\"][\"consumer_secret\"]\n",
    "\n",
    "\n",
    "# get access to the Twitter API\n",
    "def twitter_auth(consumer_key, consumer_secret):\n",
    "    auth = tweepy.AppAuthHandler(consumer_key, consumer_secret)\n",
    "    api = tweepy.API(auth, wait_on_rate_limit=True)\n",
    "    return api\n",
    "\n",
    "access_data = process_yaml(\"credentials.yaml\")\n",
    "consumer_key, consumer_secret = create_keys(access_data)\n",
    "api = twitter_auth(consumer_key, consumer_secret)\n",
    "\n"
   ]
  },
  {
   "cell_type": "markdown",
   "metadata": {
    "pycharm": {
     "name": "#%% md\n"
    }
   },
   "source": [
    "Pands Dataframe formatting"
   ]
  },
  {
   "cell_type": "code",
   "execution_count": 119,
   "metadata": {
    "pycharm": {
     "name": "#%%\n"
    }
   },
   "outputs": [],
   "source": [
    "import pandas as pd\n",
    "\n",
    "#format output of pandas DataFrame\n",
    "#pd.set_option('display.max_rows', None)\n",
    "pd.set_option('display.max_columns', None)\n",
    "pd.set_option('display.width', None)\n",
    "#pd.set_option('display.max_colwidth', 50)"
   ]
  },
  {
   "cell_type": "markdown",
   "metadata": {
    "pycharm": {
     "name": "#%% md\n"
    }
   },
   "source": [
    "-load Tweets for chosen event"
   ]
  },
  {
   "cell_type": "code",
   "execution_count": 120,
   "metadata": {
    "pycharm": {
     "name": "#%%\n"
    }
   },
   "outputs": [
    {
     "name": "stdout",
     "output_type": "stream",
     "text": [
      "                                               Tweets     Screen_Name\n",
      "0   Honoring those who made the ultimate sacrifice...      theotherAP\n",
      "1   RT @AdamHulseSports: Reflecting on the Jalen R...     FantasyTurf\n",
      "2   Jacksonville you have been awesome #AEWDoN #AE...        matymils\n",
      "3   RT @SilversteinAdam: Chris Jericho: \"Have a gr...        chadkoon\n",
      "4   RT @AdamHulseSports: Reflecting on the Jalen R...     NFLProPicks\n",
      "..                                                ...             ...\n",
      "80  RT @SKWrestling_: You are a legend, @CoachUrba...      mjtiscione\n",
      "81  You are a legend, @CoachUrbanMeyer. 🤣🤣🤣 #Doubl...    SKWrestling_\n",
      "82  Urban Meyer and Charlie Strong making a cameo ...    GigiMorale92\n",
      "83  RT @willforthrill: Coach Meyer and Strong are ...   engelhartnick\n",
      "84  Jaguars coach Urban Meyer gets involved in AEW...  BetUS_Official\n",
      "\n",
      "[85 rows x 2 columns]\n"
     ]
    }
   ],
   "source": [
    "import numpy as np\n",
    "\n",
    "def twitter_search(api, search):\n",
    "    search_results = api.search(q=search, lang='en', count='100', tweet_mode='extended', wait_on_rate_limit='True')\n",
    "    return search_results\n",
    "\n",
    "tweets = twitter_search(api, event)\n",
    "df_tweets = pd.DataFrame([tweet.full_text for tweet in tweets], columns=['Tweets'])\n",
    "df_tweets['Screen_Name'] = np.array([tweet.user.screen_name for tweet in tweets])\n",
    "print(df_tweets)"
   ]
  },
  {
   "cell_type": "markdown",
   "metadata": {
    "pycharm": {
     "name": "#%% md\n"
    }
   },
   "source": [
    "-analyse sentiment"
   ]
  },
  {
   "cell_type": "code",
   "execution_count": 121,
   "metadata": {
    "pycharm": {
     "name": "#%%\n"
    }
   },
   "outputs": [
    {
     "name": "stdout",
     "output_type": "stream",
     "text": [
      "                                               Tweets     Screen_Name  \\\n",
      "0   Honoring those who made the ultimate sacrifice...      theotherAP   \n",
      "1   RT @AdamHulseSports: Reflecting on the Jalen R...     FantasyTurf   \n",
      "2   Jacksonville you have been awesome #AEWDoN #AE...        matymils   \n",
      "3   RT @SilversteinAdam: Chris Jericho: \"Have a gr...        chadkoon   \n",
      "4   RT @AdamHulseSports: Reflecting on the Jalen R...     NFLProPicks   \n",
      "..                                                ...             ...   \n",
      "80  RT @SKWrestling_: You are a legend, @CoachUrba...      mjtiscione   \n",
      "81  You are a legend, @CoachUrbanMeyer. 🤣🤣🤣 #Doubl...    SKWrestling_   \n",
      "82  Urban Meyer and Charlie Strong making a cameo ...    GigiMorale92   \n",
      "83  RT @willforthrill: Coach Meyer and Strong are ...   engelhartnick   \n",
      "84  Jaguars coach Urban Meyer gets involved in AEW...  BetUS_Official   \n",
      "\n",
      "                                     Tweets_Sentiment  Polarity  Analysis  \n",
      "0   Honoring those who made the ultimate sacrifice...  0.000000   Neutral  \n",
      "1   Reflecting on the Jalen Ramsey Trade: Who Won?...  0.356534  Positive  \n",
      "2   Jacksonville you have been awesome AEWDoN AEW ...  1.000000  Positive  \n",
      "3   Chris Jericho: \"Have a great season.\"\\n\\nUrban...  0.200000  Positive  \n",
      "4   Reflecting on the Jalen Ramsey Trade: Who Won?...  0.356534  Positive  \n",
      "..                                                ...       ...       ...  \n",
      "80  RT _: You are a legend, . 🤣🤣🤣 DoubleOrNothing ...  0.000000   Neutral  \n",
      "81   You are a legend, . 🤣🤣🤣 DoubleOrNothing DUUUVAL   0.000000   Neutral  \n",
      "82  Urban Meyer and Charlie Strong making a cameo ...  0.216667  Positive  \n",
      "83  Coach Meyer and Strong are hard at work on a S...  0.070833  Positive  \n",
      "84  Jaguars coach Urban Meyer gets involved in AEW...  0.000000   Neutral  \n",
      "\n",
      "[85 rows x 5 columns]\n"
     ]
    }
   ],
   "source": [
    "import re\n",
    "from textblob import TextBlob\n",
    "# Create a function to clean the tweets\n",
    "def cleanTxt(text):\n",
    "    text = re.sub(r'@[A-Za-z0-9]+', '', text)  # Remove @mentions\n",
    "    text = re.sub(r'#', '', text)  # Remonving the '#' symbol\n",
    "    text = re.sub(r'RT[\\s]: ', '', text)  # Removing RT\n",
    "    text = re.sub(r'https?:\\/\\/\\S+', '', text)  # Remove the hyper link\n",
    "\n",
    "    return text\n",
    "\n",
    "\n",
    "# Create a function to get the subjectivity\n",
    "def getSubjectivity(text):\n",
    "    return TextBlob(text).sentiment.subjectivity\n",
    "\n",
    "\n",
    "# Create a function to get the polarity\n",
    "def getPolarity(text):\n",
    "    return TextBlob(text).sentiment.polarity\n",
    "\n",
    "# Create a function to compute the negative, neutral and positive analysis\n",
    "def getAnalysis(score):\n",
    "    if score < 0:\n",
    "        return 'Negative'\n",
    "    elif score == 0:\n",
    "        return 'Neutral'\n",
    "    else:\n",
    "        return 'Positive'\n",
    "\n",
    "df_tweets['Tweets_Sentiment'] = df_tweets['Tweets'].apply(cleanTxt)\n",
    "\n",
    "#df['Subjectivity'] = df['Tweets'].apply(getSubjectivity)\n",
    "df_tweets['Polarity'] = df_tweets['Tweets_Sentiment'].apply(getPolarity)\n",
    "df_tweets['Analysis'] = df_tweets['Polarity'].apply(getAnalysis)\n",
    "print(df_tweets)"
   ]
  },
  {
   "cell_type": "markdown",
   "metadata": {
    "pycharm": {
     "name": "#%% md\n"
    }
   },
   "source": [
    "-Top 10 Hashtag and User"
   ]
  },
  {
   "cell_type": "code",
   "execution_count": 122,
   "metadata": {
    "pycharm": {
     "name": "#%%\n"
    }
   },
   "outputs": [
    {
     "name": "stdout",
     "output_type": "stream",
     "text": [
      "JAXcommish         3\n",
      "ComeFlyWitBlacK    3\n",
      "CelesteZona        2\n",
      "Slipmaggot8        1\n",
      "zero_kool2345      1\n",
      "Advil911           1\n",
      "professafloyd88    1\n",
      "Slicknickshady     1\n",
      "PeterMtz505        1\n",
      "ESSNTLWRESTLING    1\n",
      "Name: Screen_Name, dtype: int64\n",
      "#doubleornothing       52\n",
      "#jaguars               49\n",
      "#aew                    7\n",
      "#aewdoubleornothing     4\n",
      "#longhorns              3\n",
      "#stadiumstampede        3\n",
      "#nfl                    3\n",
      "#jacksonville           2\n",
      "#nfltwitter             2\n",
      "#aewdon                 2\n",
      "Name: Hashtags, dtype: int64\n"
     ]
    }
   ],
   "source": [
    "def getHashtags(tweets, event):\n",
    "    hashtags = []\n",
    "    for tweet in tweets:\n",
    "        for word in tweet.lower().split(' '):\n",
    "            if word.startswith('#'):\n",
    "                word = re.search('#[a-z0-9]*', word)\n",
    "                word = word.group(0)\n",
    "                if word != event.lower():\n",
    "                    hashtags.append(word)\n",
    "    return hashtags;\n",
    "\n",
    "print(df_tweets['Screen_Name'].value_counts().nlargest(10))\n",
    "\n",
    "df_hashtags = pd.DataFrame(getHashtags(df_tweets['Tweets'], event), columns=['Hashtags'])\n",
    "print(df_hashtags['Hashtags'].value_counts().nlargest(10))"
   ]
  },
  {
   "cell_type": "markdown",
   "metadata": {
    "pycharm": {
     "name": "#%% md\n"
    }
   },
   "source": [
    "-follower of a given Twitter user from the acquired data set"
   ]
  },
  {
   "cell_type": "code",
   "execution_count": 123,
   "metadata": {
    "pycharm": {
     "name": "#%%\n"
    }
   },
   "outputs": [
    {
     "name": "stdout",
     "output_type": "stream",
     "text": [
      "User(_api=<tweepy.api.API object at 0x000001E59E43DA30>, _json={'id': 1334728630354800642, 'id_str': '1334728630354800642', 'name': 'jonathan', 'screen_name': 'jkurzawa1206', 'location': '', 'description': '', 'url': None, 'entities': {'description': {'urls': []}}, 'protected': False, 'followers_count': 0, 'friends_count': 99, 'listed_count': 0, 'created_at': 'Fri Dec 04 05:18:08 +0000 2020', 'favourites_count': 2, 'utc_offset': None, 'time_zone': None, 'geo_enabled': False, 'verified': False, 'statuses_count': 0, 'lang': None, 'contributors_enabled': False, 'is_translator': False, 'is_translation_enabled': False, 'profile_background_color': 'F5F8FA', 'profile_background_image_url': None, 'profile_background_image_url_https': None, 'profile_background_tile': False, 'profile_image_url': 'http://abs.twimg.com/sticky/default_profile_images/default_profile_normal.png', 'profile_image_url_https': 'https://abs.twimg.com/sticky/default_profile_images/default_profile_normal.png', 'profile_link_color': '1DA1F2', 'profile_sidebar_border_color': 'C0DEED', 'profile_sidebar_fill_color': 'DDEEF6', 'profile_text_color': '333333', 'profile_use_background_image': True, 'has_extended_profile': True, 'default_profile': True, 'default_profile_image': True, 'following': None, 'follow_request_sent': None, 'notifications': None, 'muting': None, 'blocking': None, 'blocked_by': None, 'translator_type': 'none', 'withheld_in_countries': []}, id=1334728630354800642, id_str='1334728630354800642', name='jonathan', screen_name='jkurzawa1206', location='', description='', url=None, entities={'description': {'urls': []}}, protected=False, followers_count=0, friends_count=99, listed_count=0, created_at=datetime.datetime(2020, 12, 4, 5, 18, 8), favourites_count=2, utc_offset=None, time_zone=None, geo_enabled=False, verified=False, statuses_count=0, lang=None, contributors_enabled=False, is_translator=False, is_translation_enabled=False, profile_background_color='F5F8FA', profile_background_image_url=None, profile_background_image_url_https=None, profile_background_tile=False, profile_image_url='http://abs.twimg.com/sticky/default_profile_images/default_profile_normal.png', profile_image_url_https='https://abs.twimg.com/sticky/default_profile_images/default_profile_normal.png', profile_link_color='1DA1F2', profile_sidebar_border_color='C0DEED', profile_sidebar_fill_color='DDEEF6', profile_text_color='333333', profile_use_background_image=True, has_extended_profile=True, default_profile=True, default_profile_image=True, following=False, follow_request_sent=None, notifications=None, muting=None, blocking=None, blocked_by=None, translator_type='none', withheld_in_countries=[])\n",
      "          Follower\n",
      "0       3Quotes999\n",
      "1  StaceyDillard71\n",
      "2  Mortonantonio21\n",
      "3    BrettShearer1\n",
      "4     WaltonsJoint\n",
      "5  JairMen87407307\n",
      "6   Austin95064178\n",
      "7  RobertM42999632\n",
      "8  Melissa31123480\n"
     ]
    }
   ],
   "source": [
    "def twitterFollower(api, user, count):\n",
    "    followers = tweepy.Cursor(api.followers, user).items(count)\n",
    "    print(followers.next())\n",
    "    return followers\n",
    "\n",
    "followers = twitterFollower(api, 'Jaguars', follower_count)\n",
    "df_follower = pd.DataFrame([follower.screen_name for follower in followers], columns=['Follower'])\n",
    "print(df_follower)"
   ]
  },
  {
   "cell_type": "markdown",
   "metadata": {
    "pycharm": {
     "name": "#%% md\n"
    }
   },
   "source": [
    "-profiles and data of followers"
   ]
  },
  {
   "cell_type": "code",
   "execution_count": 2,
   "metadata": {
    "pycharm": {
     "name": "#%%\n"
    }
   },
   "outputs": [
    {
     "ename": "ModuleNotFoundError",
     "evalue": "No module named 'tweepy'",
     "output_type": "error",
     "traceback": [
      "\u001b[1;31m---------------------------------------------------------------------------\u001b[0m",
      "\u001b[1;31mModuleNotFoundError\u001b[0m                       Traceback (most recent call last)",
      "\u001b[1;32m<ipython-input-2-4a20187d0bc1>\u001b[0m in \u001b[0;36m<module>\u001b[1;34m\u001b[0m\n\u001b[1;32m----> 1\u001b[1;33m \u001b[1;32mfrom\u001b[0m \u001b[0mtweepy\u001b[0m \u001b[1;32mimport\u001b[0m \u001b[0mTweepError\u001b[0m\u001b[1;33m\u001b[0m\u001b[1;33m\u001b[0m\u001b[0m\n\u001b[0m\u001b[0;32m      2\u001b[0m \u001b[1;33m\u001b[0m\u001b[0m\n\u001b[0;32m      3\u001b[0m \u001b[1;32mdef\u001b[0m \u001b[0mgetFollowersProfiles\u001b[0m\u001b[1;33m(\u001b[0m\u001b[0mapi\u001b[0m\u001b[1;33m,\u001b[0m \u001b[0mfollowers\u001b[0m\u001b[1;33m,\u001b[0m \u001b[0mcount\u001b[0m\u001b[1;33m)\u001b[0m\u001b[1;33m:\u001b[0m\u001b[1;33m\u001b[0m\u001b[1;33m\u001b[0m\u001b[0m\n\u001b[0;32m      4\u001b[0m     \u001b[0mprofiles\u001b[0m \u001b[1;33m=\u001b[0m \u001b[1;33m[\u001b[0m\u001b[1;33m]\u001b[0m\u001b[1;33m\u001b[0m\u001b[1;33m\u001b[0m\u001b[0m\n\u001b[0;32m      5\u001b[0m     \u001b[1;32mfor\u001b[0m \u001b[0mfollower\u001b[0m \u001b[1;32min\u001b[0m \u001b[0mfollowers\u001b[0m\u001b[1;33m:\u001b[0m\u001b[1;33m\u001b[0m\u001b[1;33m\u001b[0m\u001b[0m\n",
      "\u001b[1;31mModuleNotFoundError\u001b[0m: No module named 'tweepy'"
     ]
    }
   ],
   "source": [
    "from tweepy import TweepError\n",
    "\n",
    "def getFollowersProfiles(api, followers, count):\n",
    "    profiles = []\n",
    "    for follower in followers:\n",
    "        try:\n",
    "            line = tweepy.Cursor(api.user_timeline, follower).items(count)\n",
    "            print(\"--------------\" + str(line.next().user))\n",
    "            for tweet in line:\n",
    "                print(tweet.text)\n",
    "        except TweepError:\n",
    "            print(\"Not allowed to access profile!\")\n",
    "        except StopIteration:\n",
    "            pass\n",
    "\n",
    "followers_Profiles = getFollowersProfiles(api, df_follower['Follower'], tweet_count)\n",
    "\n",
    "df_follower['location'] = np.array([profile.user.follower for profile in followers_Profiles])"
   ]
  }
 ],
 "metadata": {
  "kernelspec": {
   "display_name": "Python 3",
   "language": "python",
   "name": "python3"
  },
  "language_info": {
   "codemirror_mode": {
    "name": "ipython",
    "version": 3
   },
   "file_extension": ".py",
   "mimetype": "text/x-python",
   "name": "python",
   "nbconvert_exporter": "python",
   "pygments_lexer": "ipython3",
   "version": "3.8.5"
  }
 },
 "nbformat": 4,
 "nbformat_minor": 1
}
